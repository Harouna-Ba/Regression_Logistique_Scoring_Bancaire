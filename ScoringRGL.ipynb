{
  "metadata": {
    "language_info": {
      "codemirror_mode": {
        "name": "python",
        "version": 3
      },
      "file_extension": ".py",
      "mimetype": "text/x-python",
      "name": "python",
      "nbconvert_exporter": "python",
      "pygments_lexer": "ipython3",
      "version": "3.8"
    },
    "kernelspec": {
      "name": "python",
      "display_name": "Python (Pyodide)",
      "language": "python"
    }
  },
  "nbformat_minor": 4,
  "nbformat": 4,
  "cells": [
    {
      "cell_type": "code",
      "source": "import numpy as np\nimport pandas as pd\nimport xlrd\nimport statsmodels.api as sm\nimport statsmodels.api as sm\nimport matplotlib.pyplot as plt\nfrom sklearn.model_selection import train_test_split\nfrom sklearn.linear_model import LogisticRegression",
      "metadata": {
        "trusted": true
      },
      "execution_count": 61,
      "outputs": []
    },
    {
      "cell_type": "code",
      "source": "data =pd.read_excel('Scoringbancaire.XLS')",
      "metadata": {
        "trusted": true
      },
      "execution_count": 62,
      "outputs": []
    },
    {
      "cell_type": "code",
      "source": "data",
      "metadata": {
        "trusted": true
      },
      "execution_count": 63,
      "outputs": [
        {
          "execution_count": 63,
          "output_type": "execute_result",
          "data": {
            "text/plain": "    Unnamed: 0  OBS  GENRE  SOLVABILITE  NCREDIT  LIQUIDITE  DND\n0          NaN    1      1          3.6        2        0.0    0\n1          NaN    2      1          3.8        5        0.0    0\n2          NaN    3      0          4.0        3        0.0    0\n3          NaN    4      0          4.2        1        2.0    0\n4          NaN    5      1          4.2        4        4.5    0\n5          NaN    6      0          4.4        1        3.5    0\n6          NaN    7      1          4.8        3        3.0    0\n7          NaN    8      0          4.8        5        3.0    0\n8          NaN    9      1          5.0        2        2.5    0\n9          NaN   10      1          5.0        5        3.0    0\n10         NaN   11      0          5.0        1        2.0    1\n11         NaN   12      1          5.2        5        2.0    0\n12         NaN   13      1          5.2        5        2.3    0\n13         NaN   14      0          9.0        4        4.0    1\n14         NaN   15      1          5.8        4        5.0    0\n15         NaN   16      0          6.2        4        5.0    0\n16         NaN   17      0          6.2        4        5.5    0\n17         NaN   18      1          6.6        4        5.0    0\n18         NaN   19      1          6.6        4        6.0    0\n19         NaN   20      0          6.6        3        5.0    1\n20         NaN   21      1          7.0        2       12.0    0\n21         NaN   22      1          7.2        4        4.5    0\n22         NaN   23      0          7.2        2        9.0    1\n23         NaN   24      1          7.4        3        5.0    0\n24         NaN   25      1          7.6        4        6.0    0\n25         NaN   26      0          8.0        3        5.0    1\n26         NaN   27      1         12.0        3        7.2    1\n27         NaN   28      0         10.0        1        8.3    1\n28         NaN   29      0         11.0        3        5.0    1\n29         NaN   30      1          8.2        3        6.0    0\n30         NaN   31      0         11.0        2        5.0    1\n31         NaN   32      1         12.0        3        6.0    1\n32         NaN   33      1         15.0        2       10.5    1\n33         NaN   34      1         13.0        1       12.5    1\n34         NaN   35      1          9.2        3        5.0    0\n35         NaN   36      0         14.0        1        6.0    1\n36         NaN   37      0         14.0        1       12.0    1\n37         NaN   38      1         10.0        3        6.5    0\n38         NaN   39      0         10.0        2        8.0    1\n39         NaN   40      1         12.0        0        3.0    1\n40         NaN   41      1         11.0        1       11.2    1\n41         NaN   42      0         10.6        1       10.5    1\n42         NaN   43      1         11.0        2        8.0    0\n43         NaN   44      0         11.0        1       12.0    1\n44         NaN   45      0         11.2        2        8.5    1\n45         NaN   46      0         11.2        0        7.0    1\n46         NaN   47      0         11.6        2        5.0    0\n47         NaN   48      1         11.6        0        7.4    1\n48         NaN   49      0         11.8        0       15.0    1\n49         NaN   50      0         12.0        1       13.0    1\n50         NaN   51      0          8.0        4        2.0    0\n51         NaN   52      1         12.4        1       10.3    0\n52         NaN   53      0         12.4        0       11.0    1\n53         NaN   54      1         12.6        3        3.5    0\n54         NaN   55      0         13.2        0       12.0    1\n55         NaN   56      0         14.0        0        5.5    1\n56         NaN   57      1         15.0        0        6.0    1\n57         NaN   58      1         15.6        0        9.5    1\n58         NaN   59      0         16.2        0       12.0    1\n59         NaN   60      0         17.0        2        4.0    1",
            "text/html": "<div>\n<style scoped>\n    .dataframe tbody tr th:only-of-type {\n        vertical-align: middle;\n    }\n\n    .dataframe tbody tr th {\n        vertical-align: top;\n    }\n\n    .dataframe thead th {\n        text-align: right;\n    }\n</style>\n<table border=\"1\" class=\"dataframe\">\n  <thead>\n    <tr style=\"text-align: right;\">\n      <th></th>\n      <th>Unnamed: 0</th>\n      <th>OBS</th>\n      <th>GENRE</th>\n      <th>SOLVABILITE</th>\n      <th>NCREDIT</th>\n      <th>LIQUIDITE</th>\n      <th>DND</th>\n    </tr>\n  </thead>\n  <tbody>\n    <tr>\n      <th>0</th>\n      <td>NaN</td>\n      <td>1</td>\n      <td>1</td>\n      <td>3.6</td>\n      <td>2</td>\n      <td>0.0</td>\n      <td>0</td>\n    </tr>\n    <tr>\n      <th>1</th>\n      <td>NaN</td>\n      <td>2</td>\n      <td>1</td>\n      <td>3.8</td>\n      <td>5</td>\n      <td>0.0</td>\n      <td>0</td>\n    </tr>\n    <tr>\n      <th>2</th>\n      <td>NaN</td>\n      <td>3</td>\n      <td>0</td>\n      <td>4.0</td>\n      <td>3</td>\n      <td>0.0</td>\n      <td>0</td>\n    </tr>\n    <tr>\n      <th>3</th>\n      <td>NaN</td>\n      <td>4</td>\n      <td>0</td>\n      <td>4.2</td>\n      <td>1</td>\n      <td>2.0</td>\n      <td>0</td>\n    </tr>\n    <tr>\n      <th>4</th>\n      <td>NaN</td>\n      <td>5</td>\n      <td>1</td>\n      <td>4.2</td>\n      <td>4</td>\n      <td>4.5</td>\n      <td>0</td>\n    </tr>\n    <tr>\n      <th>5</th>\n      <td>NaN</td>\n      <td>6</td>\n      <td>0</td>\n      <td>4.4</td>\n      <td>1</td>\n      <td>3.5</td>\n      <td>0</td>\n    </tr>\n    <tr>\n      <th>6</th>\n      <td>NaN</td>\n      <td>7</td>\n      <td>1</td>\n      <td>4.8</td>\n      <td>3</td>\n      <td>3.0</td>\n      <td>0</td>\n    </tr>\n    <tr>\n      <th>7</th>\n      <td>NaN</td>\n      <td>8</td>\n      <td>0</td>\n      <td>4.8</td>\n      <td>5</td>\n      <td>3.0</td>\n      <td>0</td>\n    </tr>\n    <tr>\n      <th>8</th>\n      <td>NaN</td>\n      <td>9</td>\n      <td>1</td>\n      <td>5.0</td>\n      <td>2</td>\n      <td>2.5</td>\n      <td>0</td>\n    </tr>\n    <tr>\n      <th>9</th>\n      <td>NaN</td>\n      <td>10</td>\n      <td>1</td>\n      <td>5.0</td>\n      <td>5</td>\n      <td>3.0</td>\n      <td>0</td>\n    </tr>\n    <tr>\n      <th>10</th>\n      <td>NaN</td>\n      <td>11</td>\n      <td>0</td>\n      <td>5.0</td>\n      <td>1</td>\n      <td>2.0</td>\n      <td>1</td>\n    </tr>\n    <tr>\n      <th>11</th>\n      <td>NaN</td>\n      <td>12</td>\n      <td>1</td>\n      <td>5.2</td>\n      <td>5</td>\n      <td>2.0</td>\n      <td>0</td>\n    </tr>\n    <tr>\n      <th>12</th>\n      <td>NaN</td>\n      <td>13</td>\n      <td>1</td>\n      <td>5.2</td>\n      <td>5</td>\n      <td>2.3</td>\n      <td>0</td>\n    </tr>\n    <tr>\n      <th>13</th>\n      <td>NaN</td>\n      <td>14</td>\n      <td>0</td>\n      <td>9.0</td>\n      <td>4</td>\n      <td>4.0</td>\n      <td>1</td>\n    </tr>\n    <tr>\n      <th>14</th>\n      <td>NaN</td>\n      <td>15</td>\n      <td>1</td>\n      <td>5.8</td>\n      <td>4</td>\n      <td>5.0</td>\n      <td>0</td>\n    </tr>\n    <tr>\n      <th>15</th>\n      <td>NaN</td>\n      <td>16</td>\n      <td>0</td>\n      <td>6.2</td>\n      <td>4</td>\n      <td>5.0</td>\n      <td>0</td>\n    </tr>\n    <tr>\n      <th>16</th>\n      <td>NaN</td>\n      <td>17</td>\n      <td>0</td>\n      <td>6.2</td>\n      <td>4</td>\n      <td>5.5</td>\n      <td>0</td>\n    </tr>\n    <tr>\n      <th>17</th>\n      <td>NaN</td>\n      <td>18</td>\n      <td>1</td>\n      <td>6.6</td>\n      <td>4</td>\n      <td>5.0</td>\n      <td>0</td>\n    </tr>\n    <tr>\n      <th>18</th>\n      <td>NaN</td>\n      <td>19</td>\n      <td>1</td>\n      <td>6.6</td>\n      <td>4</td>\n      <td>6.0</td>\n      <td>0</td>\n    </tr>\n    <tr>\n      <th>19</th>\n      <td>NaN</td>\n      <td>20</td>\n      <td>0</td>\n      <td>6.6</td>\n      <td>3</td>\n      <td>5.0</td>\n      <td>1</td>\n    </tr>\n    <tr>\n      <th>20</th>\n      <td>NaN</td>\n      <td>21</td>\n      <td>1</td>\n      <td>7.0</td>\n      <td>2</td>\n      <td>12.0</td>\n      <td>0</td>\n    </tr>\n    <tr>\n      <th>21</th>\n      <td>NaN</td>\n      <td>22</td>\n      <td>1</td>\n      <td>7.2</td>\n      <td>4</td>\n      <td>4.5</td>\n      <td>0</td>\n    </tr>\n    <tr>\n      <th>22</th>\n      <td>NaN</td>\n      <td>23</td>\n      <td>0</td>\n      <td>7.2</td>\n      <td>2</td>\n      <td>9.0</td>\n      <td>1</td>\n    </tr>\n    <tr>\n      <th>23</th>\n      <td>NaN</td>\n      <td>24</td>\n      <td>1</td>\n      <td>7.4</td>\n      <td>3</td>\n      <td>5.0</td>\n      <td>0</td>\n    </tr>\n    <tr>\n      <th>24</th>\n      <td>NaN</td>\n      <td>25</td>\n      <td>1</td>\n      <td>7.6</td>\n      <td>4</td>\n      <td>6.0</td>\n      <td>0</td>\n    </tr>\n    <tr>\n      <th>25</th>\n      <td>NaN</td>\n      <td>26</td>\n      <td>0</td>\n      <td>8.0</td>\n      <td>3</td>\n      <td>5.0</td>\n      <td>1</td>\n    </tr>\n    <tr>\n      <th>26</th>\n      <td>NaN</td>\n      <td>27</td>\n      <td>1</td>\n      <td>12.0</td>\n      <td>3</td>\n      <td>7.2</td>\n      <td>1</td>\n    </tr>\n    <tr>\n      <th>27</th>\n      <td>NaN</td>\n      <td>28</td>\n      <td>0</td>\n      <td>10.0</td>\n      <td>1</td>\n      <td>8.3</td>\n      <td>1</td>\n    </tr>\n    <tr>\n      <th>28</th>\n      <td>NaN</td>\n      <td>29</td>\n      <td>0</td>\n      <td>11.0</td>\n      <td>3</td>\n      <td>5.0</td>\n      <td>1</td>\n    </tr>\n    <tr>\n      <th>29</th>\n      <td>NaN</td>\n      <td>30</td>\n      <td>1</td>\n      <td>8.2</td>\n      <td>3</td>\n      <td>6.0</td>\n      <td>0</td>\n    </tr>\n    <tr>\n      <th>30</th>\n      <td>NaN</td>\n      <td>31</td>\n      <td>0</td>\n      <td>11.0</td>\n      <td>2</td>\n      <td>5.0</td>\n      <td>1</td>\n    </tr>\n    <tr>\n      <th>31</th>\n      <td>NaN</td>\n      <td>32</td>\n      <td>1</td>\n      <td>12.0</td>\n      <td>3</td>\n      <td>6.0</td>\n      <td>1</td>\n    </tr>\n    <tr>\n      <th>32</th>\n      <td>NaN</td>\n      <td>33</td>\n      <td>1</td>\n      <td>15.0</td>\n      <td>2</td>\n      <td>10.5</td>\n      <td>1</td>\n    </tr>\n    <tr>\n      <th>33</th>\n      <td>NaN</td>\n      <td>34</td>\n      <td>1</td>\n      <td>13.0</td>\n      <td>1</td>\n      <td>12.5</td>\n      <td>1</td>\n    </tr>\n    <tr>\n      <th>34</th>\n      <td>NaN</td>\n      <td>35</td>\n      <td>1</td>\n      <td>9.2</td>\n      <td>3</td>\n      <td>5.0</td>\n      <td>0</td>\n    </tr>\n    <tr>\n      <th>35</th>\n      <td>NaN</td>\n      <td>36</td>\n      <td>0</td>\n      <td>14.0</td>\n      <td>1</td>\n      <td>6.0</td>\n      <td>1</td>\n    </tr>\n    <tr>\n      <th>36</th>\n      <td>NaN</td>\n      <td>37</td>\n      <td>0</td>\n      <td>14.0</td>\n      <td>1</td>\n      <td>12.0</td>\n      <td>1</td>\n    </tr>\n    <tr>\n      <th>37</th>\n      <td>NaN</td>\n      <td>38</td>\n      <td>1</td>\n      <td>10.0</td>\n      <td>3</td>\n      <td>6.5</td>\n      <td>0</td>\n    </tr>\n    <tr>\n      <th>38</th>\n      <td>NaN</td>\n      <td>39</td>\n      <td>0</td>\n      <td>10.0</td>\n      <td>2</td>\n      <td>8.0</td>\n      <td>1</td>\n    </tr>\n    <tr>\n      <th>39</th>\n      <td>NaN</td>\n      <td>40</td>\n      <td>1</td>\n      <td>12.0</td>\n      <td>0</td>\n      <td>3.0</td>\n      <td>1</td>\n    </tr>\n    <tr>\n      <th>40</th>\n      <td>NaN</td>\n      <td>41</td>\n      <td>1</td>\n      <td>11.0</td>\n      <td>1</td>\n      <td>11.2</td>\n      <td>1</td>\n    </tr>\n    <tr>\n      <th>41</th>\n      <td>NaN</td>\n      <td>42</td>\n      <td>0</td>\n      <td>10.6</td>\n      <td>1</td>\n      <td>10.5</td>\n      <td>1</td>\n    </tr>\n    <tr>\n      <th>42</th>\n      <td>NaN</td>\n      <td>43</td>\n      <td>1</td>\n      <td>11.0</td>\n      <td>2</td>\n      <td>8.0</td>\n      <td>0</td>\n    </tr>\n    <tr>\n      <th>43</th>\n      <td>NaN</td>\n      <td>44</td>\n      <td>0</td>\n      <td>11.0</td>\n      <td>1</td>\n      <td>12.0</td>\n      <td>1</td>\n    </tr>\n    <tr>\n      <th>44</th>\n      <td>NaN</td>\n      <td>45</td>\n      <td>0</td>\n      <td>11.2</td>\n      <td>2</td>\n      <td>8.5</td>\n      <td>1</td>\n    </tr>\n    <tr>\n      <th>45</th>\n      <td>NaN</td>\n      <td>46</td>\n      <td>0</td>\n      <td>11.2</td>\n      <td>0</td>\n      <td>7.0</td>\n      <td>1</td>\n    </tr>\n    <tr>\n      <th>46</th>\n      <td>NaN</td>\n      <td>47</td>\n      <td>0</td>\n      <td>11.6</td>\n      <td>2</td>\n      <td>5.0</td>\n      <td>0</td>\n    </tr>\n    <tr>\n      <th>47</th>\n      <td>NaN</td>\n      <td>48</td>\n      <td>1</td>\n      <td>11.6</td>\n      <td>0</td>\n      <td>7.4</td>\n      <td>1</td>\n    </tr>\n    <tr>\n      <th>48</th>\n      <td>NaN</td>\n      <td>49</td>\n      <td>0</td>\n      <td>11.8</td>\n      <td>0</td>\n      <td>15.0</td>\n      <td>1</td>\n    </tr>\n    <tr>\n      <th>49</th>\n      <td>NaN</td>\n      <td>50</td>\n      <td>0</td>\n      <td>12.0</td>\n      <td>1</td>\n      <td>13.0</td>\n      <td>1</td>\n    </tr>\n    <tr>\n      <th>50</th>\n      <td>NaN</td>\n      <td>51</td>\n      <td>0</td>\n      <td>8.0</td>\n      <td>4</td>\n      <td>2.0</td>\n      <td>0</td>\n    </tr>\n    <tr>\n      <th>51</th>\n      <td>NaN</td>\n      <td>52</td>\n      <td>1</td>\n      <td>12.4</td>\n      <td>1</td>\n      <td>10.3</td>\n      <td>0</td>\n    </tr>\n    <tr>\n      <th>52</th>\n      <td>NaN</td>\n      <td>53</td>\n      <td>0</td>\n      <td>12.4</td>\n      <td>0</td>\n      <td>11.0</td>\n      <td>1</td>\n    </tr>\n    <tr>\n      <th>53</th>\n      <td>NaN</td>\n      <td>54</td>\n      <td>1</td>\n      <td>12.6</td>\n      <td>3</td>\n      <td>3.5</td>\n      <td>0</td>\n    </tr>\n    <tr>\n      <th>54</th>\n      <td>NaN</td>\n      <td>55</td>\n      <td>0</td>\n      <td>13.2</td>\n      <td>0</td>\n      <td>12.0</td>\n      <td>1</td>\n    </tr>\n    <tr>\n      <th>55</th>\n      <td>NaN</td>\n      <td>56</td>\n      <td>0</td>\n      <td>14.0</td>\n      <td>0</td>\n      <td>5.5</td>\n      <td>1</td>\n    </tr>\n    <tr>\n      <th>56</th>\n      <td>NaN</td>\n      <td>57</td>\n      <td>1</td>\n      <td>15.0</td>\n      <td>0</td>\n      <td>6.0</td>\n      <td>1</td>\n    </tr>\n    <tr>\n      <th>57</th>\n      <td>NaN</td>\n      <td>58</td>\n      <td>1</td>\n      <td>15.6</td>\n      <td>0</td>\n      <td>9.5</td>\n      <td>1</td>\n    </tr>\n    <tr>\n      <th>58</th>\n      <td>NaN</td>\n      <td>59</td>\n      <td>0</td>\n      <td>16.2</td>\n      <td>0</td>\n      <td>12.0</td>\n      <td>1</td>\n    </tr>\n    <tr>\n      <th>59</th>\n      <td>NaN</td>\n      <td>60</td>\n      <td>0</td>\n      <td>17.0</td>\n      <td>2</td>\n      <td>4.0</td>\n      <td>1</td>\n    </tr>\n  </tbody>\n</table>\n</div>"
          },
          "metadata": {}
        }
      ]
    },
    {
      "cell_type": "code",
      "source": "data.head()",
      "metadata": {
        "trusted": true
      },
      "execution_count": 64,
      "outputs": [
        {
          "execution_count": 64,
          "output_type": "execute_result",
          "data": {
            "text/plain": "   Unnamed: 0  OBS  GENRE  SOLVABILITE  NCREDIT  LIQUIDITE  DND\n0         NaN    1      1          3.6        2        0.0    0\n1         NaN    2      1          3.8        5        0.0    0\n2         NaN    3      0          4.0        3        0.0    0\n3         NaN    4      0          4.2        1        2.0    0\n4         NaN    5      1          4.2        4        4.5    0",
            "text/html": "<div>\n<style scoped>\n    .dataframe tbody tr th:only-of-type {\n        vertical-align: middle;\n    }\n\n    .dataframe tbody tr th {\n        vertical-align: top;\n    }\n\n    .dataframe thead th {\n        text-align: right;\n    }\n</style>\n<table border=\"1\" class=\"dataframe\">\n  <thead>\n    <tr style=\"text-align: right;\">\n      <th></th>\n      <th>Unnamed: 0</th>\n      <th>OBS</th>\n      <th>GENRE</th>\n      <th>SOLVABILITE</th>\n      <th>NCREDIT</th>\n      <th>LIQUIDITE</th>\n      <th>DND</th>\n    </tr>\n  </thead>\n  <tbody>\n    <tr>\n      <th>0</th>\n      <td>NaN</td>\n      <td>1</td>\n      <td>1</td>\n      <td>3.6</td>\n      <td>2</td>\n      <td>0.0</td>\n      <td>0</td>\n    </tr>\n    <tr>\n      <th>1</th>\n      <td>NaN</td>\n      <td>2</td>\n      <td>1</td>\n      <td>3.8</td>\n      <td>5</td>\n      <td>0.0</td>\n      <td>0</td>\n    </tr>\n    <tr>\n      <th>2</th>\n      <td>NaN</td>\n      <td>3</td>\n      <td>0</td>\n      <td>4.0</td>\n      <td>3</td>\n      <td>0.0</td>\n      <td>0</td>\n    </tr>\n    <tr>\n      <th>3</th>\n      <td>NaN</td>\n      <td>4</td>\n      <td>0</td>\n      <td>4.2</td>\n      <td>1</td>\n      <td>2.0</td>\n      <td>0</td>\n    </tr>\n    <tr>\n      <th>4</th>\n      <td>NaN</td>\n      <td>5</td>\n      <td>1</td>\n      <td>4.2</td>\n      <td>4</td>\n      <td>4.5</td>\n      <td>0</td>\n    </tr>\n  </tbody>\n</table>\n</div>"
          },
          "metadata": {}
        }
      ]
    },
    {
      "cell_type": "code",
      "source": "data=data.drop(['Unnamed: 0'], axis=1)",
      "metadata": {
        "trusted": true
      },
      "execution_count": 65,
      "outputs": []
    },
    {
      "cell_type": "code",
      "source": "data.head()",
      "metadata": {
        "trusted": true
      },
      "execution_count": 66,
      "outputs": [
        {
          "execution_count": 66,
          "output_type": "execute_result",
          "data": {
            "text/plain": "   OBS  GENRE  SOLVABILITE  NCREDIT  LIQUIDITE  DND\n0    1      1          3.6        2        0.0    0\n1    2      1          3.8        5        0.0    0\n2    3      0          4.0        3        0.0    0\n3    4      0          4.2        1        2.0    0\n4    5      1          4.2        4        4.5    0",
            "text/html": "<div>\n<style scoped>\n    .dataframe tbody tr th:only-of-type {\n        vertical-align: middle;\n    }\n\n    .dataframe tbody tr th {\n        vertical-align: top;\n    }\n\n    .dataframe thead th {\n        text-align: right;\n    }\n</style>\n<table border=\"1\" class=\"dataframe\">\n  <thead>\n    <tr style=\"text-align: right;\">\n      <th></th>\n      <th>OBS</th>\n      <th>GENRE</th>\n      <th>SOLVABILITE</th>\n      <th>NCREDIT</th>\n      <th>LIQUIDITE</th>\n      <th>DND</th>\n    </tr>\n  </thead>\n  <tbody>\n    <tr>\n      <th>0</th>\n      <td>1</td>\n      <td>1</td>\n      <td>3.6</td>\n      <td>2</td>\n      <td>0.0</td>\n      <td>0</td>\n    </tr>\n    <tr>\n      <th>1</th>\n      <td>2</td>\n      <td>1</td>\n      <td>3.8</td>\n      <td>5</td>\n      <td>0.0</td>\n      <td>0</td>\n    </tr>\n    <tr>\n      <th>2</th>\n      <td>3</td>\n      <td>0</td>\n      <td>4.0</td>\n      <td>3</td>\n      <td>0.0</td>\n      <td>0</td>\n    </tr>\n    <tr>\n      <th>3</th>\n      <td>4</td>\n      <td>0</td>\n      <td>4.2</td>\n      <td>1</td>\n      <td>2.0</td>\n      <td>0</td>\n    </tr>\n    <tr>\n      <th>4</th>\n      <td>5</td>\n      <td>1</td>\n      <td>4.2</td>\n      <td>4</td>\n      <td>4.5</td>\n      <td>0</td>\n    </tr>\n  </tbody>\n</table>\n</div>"
          },
          "metadata": {}
        }
      ]
    },
    {
      "cell_type": "code",
      "source": "data",
      "metadata": {
        "trusted": true
      },
      "execution_count": 67,
      "outputs": [
        {
          "execution_count": 67,
          "output_type": "execute_result",
          "data": {
            "text/plain": "    OBS  GENRE  SOLVABILITE  NCREDIT  LIQUIDITE  DND\n0     1      1          3.6        2        0.0    0\n1     2      1          3.8        5        0.0    0\n2     3      0          4.0        3        0.0    0\n3     4      0          4.2        1        2.0    0\n4     5      1          4.2        4        4.5    0\n5     6      0          4.4        1        3.5    0\n6     7      1          4.8        3        3.0    0\n7     8      0          4.8        5        3.0    0\n8     9      1          5.0        2        2.5    0\n9    10      1          5.0        5        3.0    0\n10   11      0          5.0        1        2.0    1\n11   12      1          5.2        5        2.0    0\n12   13      1          5.2        5        2.3    0\n13   14      0          9.0        4        4.0    1\n14   15      1          5.8        4        5.0    0\n15   16      0          6.2        4        5.0    0\n16   17      0          6.2        4        5.5    0\n17   18      1          6.6        4        5.0    0\n18   19      1          6.6        4        6.0    0\n19   20      0          6.6        3        5.0    1\n20   21      1          7.0        2       12.0    0\n21   22      1          7.2        4        4.5    0\n22   23      0          7.2        2        9.0    1\n23   24      1          7.4        3        5.0    0\n24   25      1          7.6        4        6.0    0\n25   26      0          8.0        3        5.0    1\n26   27      1         12.0        3        7.2    1\n27   28      0         10.0        1        8.3    1\n28   29      0         11.0        3        5.0    1\n29   30      1          8.2        3        6.0    0\n30   31      0         11.0        2        5.0    1\n31   32      1         12.0        3        6.0    1\n32   33      1         15.0        2       10.5    1\n33   34      1         13.0        1       12.5    1\n34   35      1          9.2        3        5.0    0\n35   36      0         14.0        1        6.0    1\n36   37      0         14.0        1       12.0    1\n37   38      1         10.0        3        6.5    0\n38   39      0         10.0        2        8.0    1\n39   40      1         12.0        0        3.0    1\n40   41      1         11.0        1       11.2    1\n41   42      0         10.6        1       10.5    1\n42   43      1         11.0        2        8.0    0\n43   44      0         11.0        1       12.0    1\n44   45      0         11.2        2        8.5    1\n45   46      0         11.2        0        7.0    1\n46   47      0         11.6        2        5.0    0\n47   48      1         11.6        0        7.4    1\n48   49      0         11.8        0       15.0    1\n49   50      0         12.0        1       13.0    1\n50   51      0          8.0        4        2.0    0\n51   52      1         12.4        1       10.3    0\n52   53      0         12.4        0       11.0    1\n53   54      1         12.6        3        3.5    0\n54   55      0         13.2        0       12.0    1\n55   56      0         14.0        0        5.5    1\n56   57      1         15.0        0        6.0    1\n57   58      1         15.6        0        9.5    1\n58   59      0         16.2        0       12.0    1\n59   60      0         17.0        2        4.0    1",
            "text/html": "<div>\n<style scoped>\n    .dataframe tbody tr th:only-of-type {\n        vertical-align: middle;\n    }\n\n    .dataframe tbody tr th {\n        vertical-align: top;\n    }\n\n    .dataframe thead th {\n        text-align: right;\n    }\n</style>\n<table border=\"1\" class=\"dataframe\">\n  <thead>\n    <tr style=\"text-align: right;\">\n      <th></th>\n      <th>OBS</th>\n      <th>GENRE</th>\n      <th>SOLVABILITE</th>\n      <th>NCREDIT</th>\n      <th>LIQUIDITE</th>\n      <th>DND</th>\n    </tr>\n  </thead>\n  <tbody>\n    <tr>\n      <th>0</th>\n      <td>1</td>\n      <td>1</td>\n      <td>3.6</td>\n      <td>2</td>\n      <td>0.0</td>\n      <td>0</td>\n    </tr>\n    <tr>\n      <th>1</th>\n      <td>2</td>\n      <td>1</td>\n      <td>3.8</td>\n      <td>5</td>\n      <td>0.0</td>\n      <td>0</td>\n    </tr>\n    <tr>\n      <th>2</th>\n      <td>3</td>\n      <td>0</td>\n      <td>4.0</td>\n      <td>3</td>\n      <td>0.0</td>\n      <td>0</td>\n    </tr>\n    <tr>\n      <th>3</th>\n      <td>4</td>\n      <td>0</td>\n      <td>4.2</td>\n      <td>1</td>\n      <td>2.0</td>\n      <td>0</td>\n    </tr>\n    <tr>\n      <th>4</th>\n      <td>5</td>\n      <td>1</td>\n      <td>4.2</td>\n      <td>4</td>\n      <td>4.5</td>\n      <td>0</td>\n    </tr>\n    <tr>\n      <th>5</th>\n      <td>6</td>\n      <td>0</td>\n      <td>4.4</td>\n      <td>1</td>\n      <td>3.5</td>\n      <td>0</td>\n    </tr>\n    <tr>\n      <th>6</th>\n      <td>7</td>\n      <td>1</td>\n      <td>4.8</td>\n      <td>3</td>\n      <td>3.0</td>\n      <td>0</td>\n    </tr>\n    <tr>\n      <th>7</th>\n      <td>8</td>\n      <td>0</td>\n      <td>4.8</td>\n      <td>5</td>\n      <td>3.0</td>\n      <td>0</td>\n    </tr>\n    <tr>\n      <th>8</th>\n      <td>9</td>\n      <td>1</td>\n      <td>5.0</td>\n      <td>2</td>\n      <td>2.5</td>\n      <td>0</td>\n    </tr>\n    <tr>\n      <th>9</th>\n      <td>10</td>\n      <td>1</td>\n      <td>5.0</td>\n      <td>5</td>\n      <td>3.0</td>\n      <td>0</td>\n    </tr>\n    <tr>\n      <th>10</th>\n      <td>11</td>\n      <td>0</td>\n      <td>5.0</td>\n      <td>1</td>\n      <td>2.0</td>\n      <td>1</td>\n    </tr>\n    <tr>\n      <th>11</th>\n      <td>12</td>\n      <td>1</td>\n      <td>5.2</td>\n      <td>5</td>\n      <td>2.0</td>\n      <td>0</td>\n    </tr>\n    <tr>\n      <th>12</th>\n      <td>13</td>\n      <td>1</td>\n      <td>5.2</td>\n      <td>5</td>\n      <td>2.3</td>\n      <td>0</td>\n    </tr>\n    <tr>\n      <th>13</th>\n      <td>14</td>\n      <td>0</td>\n      <td>9.0</td>\n      <td>4</td>\n      <td>4.0</td>\n      <td>1</td>\n    </tr>\n    <tr>\n      <th>14</th>\n      <td>15</td>\n      <td>1</td>\n      <td>5.8</td>\n      <td>4</td>\n      <td>5.0</td>\n      <td>0</td>\n    </tr>\n    <tr>\n      <th>15</th>\n      <td>16</td>\n      <td>0</td>\n      <td>6.2</td>\n      <td>4</td>\n      <td>5.0</td>\n      <td>0</td>\n    </tr>\n    <tr>\n      <th>16</th>\n      <td>17</td>\n      <td>0</td>\n      <td>6.2</td>\n      <td>4</td>\n      <td>5.5</td>\n      <td>0</td>\n    </tr>\n    <tr>\n      <th>17</th>\n      <td>18</td>\n      <td>1</td>\n      <td>6.6</td>\n      <td>4</td>\n      <td>5.0</td>\n      <td>0</td>\n    </tr>\n    <tr>\n      <th>18</th>\n      <td>19</td>\n      <td>1</td>\n      <td>6.6</td>\n      <td>4</td>\n      <td>6.0</td>\n      <td>0</td>\n    </tr>\n    <tr>\n      <th>19</th>\n      <td>20</td>\n      <td>0</td>\n      <td>6.6</td>\n      <td>3</td>\n      <td>5.0</td>\n      <td>1</td>\n    </tr>\n    <tr>\n      <th>20</th>\n      <td>21</td>\n      <td>1</td>\n      <td>7.0</td>\n      <td>2</td>\n      <td>12.0</td>\n      <td>0</td>\n    </tr>\n    <tr>\n      <th>21</th>\n      <td>22</td>\n      <td>1</td>\n      <td>7.2</td>\n      <td>4</td>\n      <td>4.5</td>\n      <td>0</td>\n    </tr>\n    <tr>\n      <th>22</th>\n      <td>23</td>\n      <td>0</td>\n      <td>7.2</td>\n      <td>2</td>\n      <td>9.0</td>\n      <td>1</td>\n    </tr>\n    <tr>\n      <th>23</th>\n      <td>24</td>\n      <td>1</td>\n      <td>7.4</td>\n      <td>3</td>\n      <td>5.0</td>\n      <td>0</td>\n    </tr>\n    <tr>\n      <th>24</th>\n      <td>25</td>\n      <td>1</td>\n      <td>7.6</td>\n      <td>4</td>\n      <td>6.0</td>\n      <td>0</td>\n    </tr>\n    <tr>\n      <th>25</th>\n      <td>26</td>\n      <td>0</td>\n      <td>8.0</td>\n      <td>3</td>\n      <td>5.0</td>\n      <td>1</td>\n    </tr>\n    <tr>\n      <th>26</th>\n      <td>27</td>\n      <td>1</td>\n      <td>12.0</td>\n      <td>3</td>\n      <td>7.2</td>\n      <td>1</td>\n    </tr>\n    <tr>\n      <th>27</th>\n      <td>28</td>\n      <td>0</td>\n      <td>10.0</td>\n      <td>1</td>\n      <td>8.3</td>\n      <td>1</td>\n    </tr>\n    <tr>\n      <th>28</th>\n      <td>29</td>\n      <td>0</td>\n      <td>11.0</td>\n      <td>3</td>\n      <td>5.0</td>\n      <td>1</td>\n    </tr>\n    <tr>\n      <th>29</th>\n      <td>30</td>\n      <td>1</td>\n      <td>8.2</td>\n      <td>3</td>\n      <td>6.0</td>\n      <td>0</td>\n    </tr>\n    <tr>\n      <th>30</th>\n      <td>31</td>\n      <td>0</td>\n      <td>11.0</td>\n      <td>2</td>\n      <td>5.0</td>\n      <td>1</td>\n    </tr>\n    <tr>\n      <th>31</th>\n      <td>32</td>\n      <td>1</td>\n      <td>12.0</td>\n      <td>3</td>\n      <td>6.0</td>\n      <td>1</td>\n    </tr>\n    <tr>\n      <th>32</th>\n      <td>33</td>\n      <td>1</td>\n      <td>15.0</td>\n      <td>2</td>\n      <td>10.5</td>\n      <td>1</td>\n    </tr>\n    <tr>\n      <th>33</th>\n      <td>34</td>\n      <td>1</td>\n      <td>13.0</td>\n      <td>1</td>\n      <td>12.5</td>\n      <td>1</td>\n    </tr>\n    <tr>\n      <th>34</th>\n      <td>35</td>\n      <td>1</td>\n      <td>9.2</td>\n      <td>3</td>\n      <td>5.0</td>\n      <td>0</td>\n    </tr>\n    <tr>\n      <th>35</th>\n      <td>36</td>\n      <td>0</td>\n      <td>14.0</td>\n      <td>1</td>\n      <td>6.0</td>\n      <td>1</td>\n    </tr>\n    <tr>\n      <th>36</th>\n      <td>37</td>\n      <td>0</td>\n      <td>14.0</td>\n      <td>1</td>\n      <td>12.0</td>\n      <td>1</td>\n    </tr>\n    <tr>\n      <th>37</th>\n      <td>38</td>\n      <td>1</td>\n      <td>10.0</td>\n      <td>3</td>\n      <td>6.5</td>\n      <td>0</td>\n    </tr>\n    <tr>\n      <th>38</th>\n      <td>39</td>\n      <td>0</td>\n      <td>10.0</td>\n      <td>2</td>\n      <td>8.0</td>\n      <td>1</td>\n    </tr>\n    <tr>\n      <th>39</th>\n      <td>40</td>\n      <td>1</td>\n      <td>12.0</td>\n      <td>0</td>\n      <td>3.0</td>\n      <td>1</td>\n    </tr>\n    <tr>\n      <th>40</th>\n      <td>41</td>\n      <td>1</td>\n      <td>11.0</td>\n      <td>1</td>\n      <td>11.2</td>\n      <td>1</td>\n    </tr>\n    <tr>\n      <th>41</th>\n      <td>42</td>\n      <td>0</td>\n      <td>10.6</td>\n      <td>1</td>\n      <td>10.5</td>\n      <td>1</td>\n    </tr>\n    <tr>\n      <th>42</th>\n      <td>43</td>\n      <td>1</td>\n      <td>11.0</td>\n      <td>2</td>\n      <td>8.0</td>\n      <td>0</td>\n    </tr>\n    <tr>\n      <th>43</th>\n      <td>44</td>\n      <td>0</td>\n      <td>11.0</td>\n      <td>1</td>\n      <td>12.0</td>\n      <td>1</td>\n    </tr>\n    <tr>\n      <th>44</th>\n      <td>45</td>\n      <td>0</td>\n      <td>11.2</td>\n      <td>2</td>\n      <td>8.5</td>\n      <td>1</td>\n    </tr>\n    <tr>\n      <th>45</th>\n      <td>46</td>\n      <td>0</td>\n      <td>11.2</td>\n      <td>0</td>\n      <td>7.0</td>\n      <td>1</td>\n    </tr>\n    <tr>\n      <th>46</th>\n      <td>47</td>\n      <td>0</td>\n      <td>11.6</td>\n      <td>2</td>\n      <td>5.0</td>\n      <td>0</td>\n    </tr>\n    <tr>\n      <th>47</th>\n      <td>48</td>\n      <td>1</td>\n      <td>11.6</td>\n      <td>0</td>\n      <td>7.4</td>\n      <td>1</td>\n    </tr>\n    <tr>\n      <th>48</th>\n      <td>49</td>\n      <td>0</td>\n      <td>11.8</td>\n      <td>0</td>\n      <td>15.0</td>\n      <td>1</td>\n    </tr>\n    <tr>\n      <th>49</th>\n      <td>50</td>\n      <td>0</td>\n      <td>12.0</td>\n      <td>1</td>\n      <td>13.0</td>\n      <td>1</td>\n    </tr>\n    <tr>\n      <th>50</th>\n      <td>51</td>\n      <td>0</td>\n      <td>8.0</td>\n      <td>4</td>\n      <td>2.0</td>\n      <td>0</td>\n    </tr>\n    <tr>\n      <th>51</th>\n      <td>52</td>\n      <td>1</td>\n      <td>12.4</td>\n      <td>1</td>\n      <td>10.3</td>\n      <td>0</td>\n    </tr>\n    <tr>\n      <th>52</th>\n      <td>53</td>\n      <td>0</td>\n      <td>12.4</td>\n      <td>0</td>\n      <td>11.0</td>\n      <td>1</td>\n    </tr>\n    <tr>\n      <th>53</th>\n      <td>54</td>\n      <td>1</td>\n      <td>12.6</td>\n      <td>3</td>\n      <td>3.5</td>\n      <td>0</td>\n    </tr>\n    <tr>\n      <th>54</th>\n      <td>55</td>\n      <td>0</td>\n      <td>13.2</td>\n      <td>0</td>\n      <td>12.0</td>\n      <td>1</td>\n    </tr>\n    <tr>\n      <th>55</th>\n      <td>56</td>\n      <td>0</td>\n      <td>14.0</td>\n      <td>0</td>\n      <td>5.5</td>\n      <td>1</td>\n    </tr>\n    <tr>\n      <th>56</th>\n      <td>57</td>\n      <td>1</td>\n      <td>15.0</td>\n      <td>0</td>\n      <td>6.0</td>\n      <td>1</td>\n    </tr>\n    <tr>\n      <th>57</th>\n      <td>58</td>\n      <td>1</td>\n      <td>15.6</td>\n      <td>0</td>\n      <td>9.5</td>\n      <td>1</td>\n    </tr>\n    <tr>\n      <th>58</th>\n      <td>59</td>\n      <td>0</td>\n      <td>16.2</td>\n      <td>0</td>\n      <td>12.0</td>\n      <td>1</td>\n    </tr>\n    <tr>\n      <th>59</th>\n      <td>60</td>\n      <td>0</td>\n      <td>17.0</td>\n      <td>2</td>\n      <td>4.0</td>\n      <td>1</td>\n    </tr>\n  </tbody>\n</table>\n</div>"
          },
          "metadata": {}
        }
      ]
    },
    {
      "cell_type": "markdown",
      "source": "Exploration des données",
      "metadata": {}
    },
    {
      "cell_type": "code",
      "source": "data['DND'].value_counts()",
      "metadata": {
        "trusted": true
      },
      "execution_count": 68,
      "outputs": [
        {
          "execution_count": 68,
          "output_type": "execute_result",
          "data": {
            "text/plain": "1    31\n0    29\nName: DND, dtype: int64"
          },
          "metadata": {}
        }
      ]
    },
    {
      "cell_type": "markdown",
      "source": "les resultats montre que nous avons dans notre dataset 31 entreprises non defaillantes et 29 entreprises defaillantes",
      "metadata": {}
    },
    {
      "cell_type": "code",
      "source": "data.DND.hist()\nplt.show()",
      "metadata": {
        "trusted": true
      },
      "execution_count": 69,
      "outputs": [
        {
          "output_type": "display_data",
          "data": {
            "text/plain": "<pyolite.display.Image at 0xa117400>",
            "image/png": "[encoded data removed]"
          },
          "metadata": {}
        }
      ]
    },
    {
      "cell_type": "code",
      "source": "data.groupby('DND').mean()",
      "metadata": {
        "trusted": true
      },
      "execution_count": 70,
      "outputs": [
        {
          "execution_count": 70,
          "output_type": "execute_result",
          "data": {
            "text/plain": "           OBS     GENRE  SOLVABILITE   NCREDIT  LIQUIDITE\nDND                                                       \n0    20.931034  0.724138     6.820690  3.275862   4.348276\n1    39.451613  0.290323    11.729032  1.290323   8.164516",
            "text/html": "<div>\n<style scoped>\n    .dataframe tbody tr th:only-of-type {\n        vertical-align: middle;\n    }\n\n    .dataframe tbody tr th {\n        vertical-align: top;\n    }\n\n    .dataframe thead th {\n        text-align: right;\n    }\n</style>\n<table border=\"1\" class=\"dataframe\">\n  <thead>\n    <tr style=\"text-align: right;\">\n      <th></th>\n      <th>OBS</th>\n      <th>GENRE</th>\n      <th>SOLVABILITE</th>\n      <th>NCREDIT</th>\n      <th>LIQUIDITE</th>\n    </tr>\n    <tr>\n      <th>DND</th>\n      <th></th>\n      <th></th>\n      <th></th>\n      <th></th>\n      <th></th>\n    </tr>\n  </thead>\n  <tbody>\n    <tr>\n      <th>0</th>\n      <td>20.931034</td>\n      <td>0.724138</td>\n      <td>6.820690</td>\n      <td>3.275862</td>\n      <td>4.348276</td>\n    </tr>\n    <tr>\n      <th>1</th>\n      <td>39.451613</td>\n      <td>0.290323</td>\n      <td>11.729032</td>\n      <td>1.290323</td>\n      <td>8.164516</td>\n    </tr>\n  </tbody>\n</table>\n</div>"
          },
          "metadata": {}
        }
      ]
    },
    {
      "cell_type": "markdown",
      "source": "les entreprises non defaillante de notre dataset possedent en moyenne une liquidite de 8.16, une solvabilite de 11.72 et 1.29 de Ncredit en moyenne",
      "metadata": {}
    },
    {
      "cell_type": "markdown",
      "source": "Definition de nos variables (dependantes et independantes)",
      "metadata": {}
    },
    {
      "cell_type": "code",
      "source": "data.head()",
      "metadata": {
        "trusted": true
      },
      "execution_count": 71,
      "outputs": [
        {
          "execution_count": 71,
          "output_type": "execute_result",
          "data": {
            "text/plain": "   OBS  GENRE  SOLVABILITE  NCREDIT  LIQUIDITE  DND\n0    1      1          3.6        2        0.0    0\n1    2      1          3.8        5        0.0    0\n2    3      0          4.0        3        0.0    0\n3    4      0          4.2        1        2.0    0\n4    5      1          4.2        4        4.5    0",
            "text/html": "<div>\n<style scoped>\n    .dataframe tbody tr th:only-of-type {\n        vertical-align: middle;\n    }\n\n    .dataframe tbody tr th {\n        vertical-align: top;\n    }\n\n    .dataframe thead th {\n        text-align: right;\n    }\n</style>\n<table border=\"1\" class=\"dataframe\">\n  <thead>\n    <tr style=\"text-align: right;\">\n      <th></th>\n      <th>OBS</th>\n      <th>GENRE</th>\n      <th>SOLVABILITE</th>\n      <th>NCREDIT</th>\n      <th>LIQUIDITE</th>\n      <th>DND</th>\n    </tr>\n  </thead>\n  <tbody>\n    <tr>\n      <th>0</th>\n      <td>1</td>\n      <td>1</td>\n      <td>3.6</td>\n      <td>2</td>\n      <td>0.0</td>\n      <td>0</td>\n    </tr>\n    <tr>\n      <th>1</th>\n      <td>2</td>\n      <td>1</td>\n      <td>3.8</td>\n      <td>5</td>\n      <td>0.0</td>\n      <td>0</td>\n    </tr>\n    <tr>\n      <th>2</th>\n      <td>3</td>\n      <td>0</td>\n      <td>4.0</td>\n      <td>3</td>\n      <td>0.0</td>\n      <td>0</td>\n    </tr>\n    <tr>\n      <th>3</th>\n      <td>4</td>\n      <td>0</td>\n      <td>4.2</td>\n      <td>1</td>\n      <td>2.0</td>\n      <td>0</td>\n    </tr>\n    <tr>\n      <th>4</th>\n      <td>5</td>\n      <td>1</td>\n      <td>4.2</td>\n      <td>4</td>\n      <td>4.5</td>\n      <td>0</td>\n    </tr>\n  </tbody>\n</table>\n</div>"
          },
          "metadata": {}
        }
      ]
    },
    {
      "cell_type": "code",
      "source": "data=data.drop(['OBS'], axis=1)",
      "metadata": {
        "trusted": true
      },
      "execution_count": 72,
      "outputs": []
    },
    {
      "cell_type": "code",
      "source": "data.head()",
      "metadata": {
        "trusted": true
      },
      "execution_count": 73,
      "outputs": [
        {
          "execution_count": 73,
          "output_type": "execute_result",
          "data": {
            "text/plain": "   GENRE  SOLVABILITE  NCREDIT  LIQUIDITE  DND\n0      1          3.6        2        0.0    0\n1      1          3.8        5        0.0    0\n2      0          4.0        3        0.0    0\n3      0          4.2        1        2.0    0\n4      1          4.2        4        4.5    0",
            "text/html": "<div>\n<style scoped>\n    .dataframe tbody tr th:only-of-type {\n        vertical-align: middle;\n    }\n\n    .dataframe tbody tr th {\n        vertical-align: top;\n    }\n\n    .dataframe thead th {\n        text-align: right;\n    }\n</style>\n<table border=\"1\" class=\"dataframe\">\n  <thead>\n    <tr style=\"text-align: right;\">\n      <th></th>\n      <th>GENRE</th>\n      <th>SOLVABILITE</th>\n      <th>NCREDIT</th>\n      <th>LIQUIDITE</th>\n      <th>DND</th>\n    </tr>\n  </thead>\n  <tbody>\n    <tr>\n      <th>0</th>\n      <td>1</td>\n      <td>3.6</td>\n      <td>2</td>\n      <td>0.0</td>\n      <td>0</td>\n    </tr>\n    <tr>\n      <th>1</th>\n      <td>1</td>\n      <td>3.8</td>\n      <td>5</td>\n      <td>0.0</td>\n      <td>0</td>\n    </tr>\n    <tr>\n      <th>2</th>\n      <td>0</td>\n      <td>4.0</td>\n      <td>3</td>\n      <td>0.0</td>\n      <td>0</td>\n    </tr>\n    <tr>\n      <th>3</th>\n      <td>0</td>\n      <td>4.2</td>\n      <td>1</td>\n      <td>2.0</td>\n      <td>0</td>\n    </tr>\n    <tr>\n      <th>4</th>\n      <td>1</td>\n      <td>4.2</td>\n      <td>4</td>\n      <td>4.5</td>\n      <td>0</td>\n    </tr>\n  </tbody>\n</table>\n</div>"
          },
          "metadata": {}
        }
      ]
    },
    {
      "cell_type": "code",
      "source": "x= data.iloc[:,:-1].values #toutes les lignes et colonnes sauf la derniere\ny= data.iloc[:,-1].values #toutes les lignes de la derniere colonne",
      "metadata": {
        "trusted": true
      },
      "execution_count": 74,
      "outputs": []
    },
    {
      "cell_type": "markdown",
      "source": "Diviser notre dataset en Train et en Test",
      "metadata": {}
    },
    {
      "cell_type": "code",
      "source": "x_train,x_test,y_train,y_test = train_test_split(x, y, test_size=0.2, random_state=0)",
      "metadata": {
        "trusted": true
      },
      "execution_count": 75,
      "outputs": []
    },
    {
      "cell_type": "markdown",
      "source": "Mise en place de notre model de regression\nAjustement et entrainement",
      "metadata": {}
    },
    {
      "cell_type": "code",
      "source": "classifier= LogisticRegression(solver='liblinear',random_state=0)\nclassifier.fit(x_train, y_train) #on demande a notre model de s'entrainner",
      "metadata": {
        "trusted": true
      },
      "execution_count": 76,
      "outputs": [
        {
          "execution_count": 76,
          "output_type": "execute_result",
          "data": {
            "text/plain": "LogisticRegression(random_state=0, solver='liblinear')",
            "text/html": "<style>#sk-container-id-4 {color: black;background-color: white;}#sk-container-id-4 pre{padding: 0;}#sk-container-id-4 div.sk-toggleable {background-color: white;}#sk-container-id-4 label.sk-toggleable__label {cursor: pointer;display: block;width: 100%;margin-bottom: 0;padding: 0.3em;box-sizing: border-box;text-align: center;}#sk-container-id-4 label.sk-toggleable__label-arrow:before {content: \"▸\";float: left;margin-right: 0.25em;color: #696969;}#sk-container-id-4 label.sk-toggleable__label-arrow:hover:before {color: black;}#sk-container-id-4 div.sk-estimator:hover label.sk-toggleable__label-arrow:before {color: black;}#sk-container-id-4 div.sk-toggleable__content {max-height: 0;max-width: 0;overflow: hidden;text-align: left;background-color: #f0f8ff;}#sk-container-id-4 div.sk-toggleable__content pre {margin: 0.2em;color: black;border-radius: 0.25em;background-color: #f0f8ff;}#sk-container-id-4 input.sk-toggleable__control:checked~div.sk-toggleable__content {max-height: 200px;max-width: 100%;overflow: auto;}#sk-container-id-4 input.sk-toggleable__control:checked~label.sk-toggleable__label-arrow:before {content: \"▾\";}#sk-container-id-4 div.sk-estimator input.sk-toggleable__control:checked~label.sk-toggleable__label {background-color: #d4ebff;}#sk-container-id-4 div.sk-label input.sk-toggleable__control:checked~label.sk-toggleable__label {background-color: #d4ebff;}#sk-container-id-4 input.sk-hidden--visually {border: 0;clip: rect(1px 1px 1px 1px);clip: rect(1px, 1px, 1px, 1px);height: 1px;margin: -1px;overflow: hidden;padding: 0;position: absolute;width: 1px;}#sk-container-id-4 div.sk-estimator {font-family: monospace;background-color: #f0f8ff;border: 1px dotted black;border-radius: 0.25em;box-sizing: border-box;margin-bottom: 0.5em;}#sk-container-id-4 div.sk-estimator:hover {background-color: #d4ebff;}#sk-container-id-4 div.sk-parallel-item::after {content: \"\";width: 100%;border-bottom: 1px solid gray;flex-grow: 1;}#sk-container-id-4 div.sk-label:hover label.sk-toggleable__label {background-color: #d4ebff;}#sk-container-id-4 div.sk-serial::before {content: \"\";position: absolute;border-left: 1px solid gray;box-sizing: border-box;top: 0;bottom: 0;left: 50%;z-index: 0;}#sk-container-id-4 div.sk-serial {display: flex;flex-direction: column;align-items: center;background-color: white;padding-right: 0.2em;padding-left: 0.2em;position: relative;}#sk-container-id-4 div.sk-item {position: relative;z-index: 1;}#sk-container-id-4 div.sk-parallel {display: flex;align-items: stretch;justify-content: center;background-color: white;position: relative;}#sk-container-id-4 div.sk-item::before, #sk-container-id-4 div.sk-parallel-item::before {content: \"\";position: absolute;border-left: 1px solid gray;box-sizing: border-box;top: 0;bottom: 0;left: 50%;z-index: -1;}#sk-container-id-4 div.sk-parallel-item {display: flex;flex-direction: column;z-index: 1;position: relative;background-color: white;}#sk-container-id-4 div.sk-parallel-item:first-child::after {align-self: flex-end;width: 50%;}#sk-container-id-4 div.sk-parallel-item:last-child::after {align-self: flex-start;width: 50%;}#sk-container-id-4 div.sk-parallel-item:only-child::after {width: 0;}#sk-container-id-4 div.sk-dashed-wrapped {border: 1px dashed gray;margin: 0 0.4em 0.5em 0.4em;box-sizing: border-box;padding-bottom: 0.4em;background-color: white;}#sk-container-id-4 div.sk-label label {font-family: monospace;font-weight: bold;display: inline-block;line-height: 1.2em;}#sk-container-id-4 div.sk-label-container {text-align: center;}#sk-container-id-4 div.sk-container {/* jupyter's `normalize.less` sets `[hidden] { display: none; }` but bootstrap.min.css set `[hidden] { display: none !important; }` so we also need the `!important` here to be able to override the default hidden behavior on the sphinx rendered scikit-learn.org. See: https://github.com/scikit-learn/scikit-learn/issues/21755 */display: inline-block !important;position: relative;}#sk-container-id-4 div.sk-text-repr-fallback {display: none;}</style><div id=\"sk-container-id-4\" class=\"sk-top-container\"><div class=\"sk-text-repr-fallback\"><pre>LogisticRegression(random_state=0, solver=&#x27;liblinear&#x27;)</pre><b>In a Jupyter environment, please rerun this cell to show the HTML representation or trust the notebook. <br />On GitHub, the HTML representation is unable to render, please try loading this page with nbviewer.org.</b></div><div class=\"sk-container\" hidden><div class=\"sk-item\"><div class=\"sk-estimator sk-toggleable\"><input class=\"sk-toggleable__control sk-hidden--visually\" id=\"sk-estimator-id-4\" type=\"checkbox\" checked><label for=\"sk-estimator-id-4\" class=\"sk-toggleable__label sk-toggleable__label-arrow\">LogisticRegression</label><div class=\"sk-toggleable__content\"><pre>LogisticRegression(random_state=0, solver=&#x27;liblinear&#x27;)</pre></div></div></div></div></div>"
          },
          "metadata": {}
        }
      ]
    },
    {
      "cell_type": "markdown",
      "source": "Implémentation du modèle",
      "metadata": {}
    },
    {
      "cell_type": "code",
      "source": "# on ajoute une colonne pour la constante\nx_stat = sm.add_constant(x)\nmodel = sm.Logit(y, x_stat)\nresult = model.fit()",
      "metadata": {
        "trusted": true
      },
      "execution_count": 77,
      "outputs": [
        {
          "name": "stdout",
          "text": "Optimization terminated successfully.\n         Current function value: 0.250625\n         Iterations 8\n",
          "output_type": "stream"
        }
      ]
    },
    {
      "cell_type": "markdown",
      "source": "verification des statistiques du model",
      "metadata": {}
    },
    {
      "cell_type": "code",
      "source": "result.summary()",
      "metadata": {
        "trusted": true
      },
      "execution_count": 78,
      "outputs": [
        {
          "execution_count": 78,
          "output_type": "execute_result",
          "data": {
            "text/plain": "<class 'statsmodels.iolib.summary.Summary'>\n\"\"\"\n                           Logit Regression Results                           \n==============================================================================\nDep. Variable:                      y   No. Observations:                   60\nModel:                          Logit   Df Residuals:                       55\nMethod:                           MLE   Df Model:                            4\nDate:                Sun, 23 Oct 2022   Pseudo R-squ.:                  0.6381\nTime:                        18:43:21   Log-Likelihood:                -15.037\nconverged:                       True   LL-Null:                       -41.555\nCovariance Type:            nonrobust   LLR p-value:                 8.375e-11\n==============================================================================\n                 coef    std err          z      P>|z|      [0.025      0.975]\n------------------------------------------------------------------------------\nconst         -3.2656      2.020     -1.617      0.106      -7.225       0.694\nx1            -3.7617      1.437     -2.618      0.009      -6.578      -0.945\nx2             0.6321      0.240      2.638      0.008       0.163       1.102\nx3            -0.6825      0.379     -1.801      0.072      -1.425       0.060\nx4             0.1553      0.189      0.822      0.411      -0.215       0.526\n==============================================================================\n\"\"\"",
            "text/html": "<table class=\"simpletable\">\n<caption>Logit Regression Results</caption>\n<tr>\n  <th>Dep. Variable:</th>           <td>y</td>        <th>  No. Observations:  </th>  <td>    60</td>  \n</tr>\n<tr>\n  <th>Model:</th>                 <td>Logit</td>      <th>  Df Residuals:      </th>  <td>    55</td>  \n</tr>\n<tr>\n  <th>Method:</th>                 <td>MLE</td>       <th>  Df Model:          </th>  <td>     4</td>  \n</tr>\n<tr>\n  <th>Date:</th>            <td>Sun, 23 Oct 2022</td> <th>  Pseudo R-squ.:     </th>  <td>0.6381</td>  \n</tr>\n<tr>\n  <th>Time:</th>                <td>18:43:21</td>     <th>  Log-Likelihood:    </th> <td> -15.037</td> \n</tr>\n<tr>\n  <th>converged:</th>             <td>True</td>       <th>  LL-Null:           </th> <td> -41.555</td> \n</tr>\n<tr>\n  <th>Covariance Type:</th>     <td>nonrobust</td>    <th>  LLR p-value:       </th> <td>8.375e-11</td>\n</tr>\n</table>\n<table class=\"simpletable\">\n<tr>\n    <td></td>       <th>coef</th>     <th>std err</th>      <th>z</th>      <th>P>|z|</th>  <th>[0.025</th>    <th>0.975]</th>  \n</tr>\n<tr>\n  <th>const</th> <td>   -3.2656</td> <td>    2.020</td> <td>   -1.617</td> <td> 0.106</td> <td>   -7.225</td> <td>    0.694</td>\n</tr>\n<tr>\n  <th>x1</th>    <td>   -3.7617</td> <td>    1.437</td> <td>   -2.618</td> <td> 0.009</td> <td>   -6.578</td> <td>   -0.945</td>\n</tr>\n<tr>\n  <th>x2</th>    <td>    0.6321</td> <td>    0.240</td> <td>    2.638</td> <td> 0.008</td> <td>    0.163</td> <td>    1.102</td>\n</tr>\n<tr>\n  <th>x3</th>    <td>   -0.6825</td> <td>    0.379</td> <td>   -1.801</td> <td> 0.072</td> <td>   -1.425</td> <td>    0.060</td>\n</tr>\n<tr>\n  <th>x4</th>    <td>    0.1553</td> <td>    0.189</td> <td>    0.822</td> <td> 0.411</td> <td>   -0.215</td> <td>    0.526</td>\n</tr>\n</table>"
          },
          "metadata": {}
        }
      ]
    },
    {
      "cell_type": "markdown",
      "source": "Les resultats montrent qu'il existe une variable explicative qui n'est pas significative car la probalite p>|z| >0.05\nil s'agit de x4. Alors elle est a supprimer du model. LIQUIDITE",
      "metadata": {}
    },
    {
      "cell_type": "code",
      "source": "data=data.drop(['LIQUIDITE'], axis=1)",
      "metadata": {
        "trusted": true
      },
      "execution_count": 79,
      "outputs": []
    },
    {
      "cell_type": "code",
      "source": "data.head()",
      "metadata": {
        "trusted": true
      },
      "execution_count": 111,
      "outputs": [
        {
          "execution_count": 111,
          "output_type": "execute_result",
          "data": {
            "text/plain": "   GENRE  SOLVABILITE  NCREDIT  DND\n0      1          3.6        2    0\n1      1          3.8        5    0\n2      0          4.0        3    0\n3      0          4.2        1    0\n4      1          4.2        4    0",
            "text/html": "<div>\n<style scoped>\n    .dataframe tbody tr th:only-of-type {\n        vertical-align: middle;\n    }\n\n    .dataframe tbody tr th {\n        vertical-align: top;\n    }\n\n    .dataframe thead th {\n        text-align: right;\n    }\n</style>\n<table border=\"1\" class=\"dataframe\">\n  <thead>\n    <tr style=\"text-align: right;\">\n      <th></th>\n      <th>GENRE</th>\n      <th>SOLVABILITE</th>\n      <th>NCREDIT</th>\n      <th>DND</th>\n    </tr>\n  </thead>\n  <tbody>\n    <tr>\n      <th>0</th>\n      <td>1</td>\n      <td>3.6</td>\n      <td>2</td>\n      <td>0</td>\n    </tr>\n    <tr>\n      <th>1</th>\n      <td>1</td>\n      <td>3.8</td>\n      <td>5</td>\n      <td>0</td>\n    </tr>\n    <tr>\n      <th>2</th>\n      <td>0</td>\n      <td>4.0</td>\n      <td>3</td>\n      <td>0</td>\n    </tr>\n    <tr>\n      <th>3</th>\n      <td>0</td>\n      <td>4.2</td>\n      <td>1</td>\n      <td>0</td>\n    </tr>\n    <tr>\n      <th>4</th>\n      <td>1</td>\n      <td>4.2</td>\n      <td>4</td>\n      <td>0</td>\n    </tr>\n  </tbody>\n</table>\n</div>"
          },
          "metadata": {}
        }
      ]
    },
    {
      "cell_type": "markdown",
      "source": "On reprend alors l'etude avec nos nouvelle variables",
      "metadata": {}
    },
    {
      "cell_type": "code",
      "source": "X= data.iloc[:,:-1].values \nY= data.iloc[:,-1].values ",
      "metadata": {
        "trusted": true
      },
      "execution_count": 112,
      "outputs": []
    },
    {
      "cell_type": "code",
      "source": "x_train,x_test,y_train,y_test = train_test_split(X, Y, test_size=0.2, random_state=0)",
      "metadata": {
        "trusted": true
      },
      "execution_count": 113,
      "outputs": []
    },
    {
      "cell_type": "code",
      "source": "classifier= LogisticRegression(solver='liblinear',random_state=0)\nclassifier.fit(x_train, y_train) #on demande a notre model de s'entrainner",
      "metadata": {
        "trusted": true
      },
      "execution_count": 114,
      "outputs": [
        {
          "execution_count": 114,
          "output_type": "execute_result",
          "data": {
            "text/plain": "LogisticRegression(random_state=0, solver='liblinear')",
            "text/html": "<style>#sk-container-id-7 {color: black;background-color: white;}#sk-container-id-7 pre{padding: 0;}#sk-container-id-7 div.sk-toggleable {background-color: white;}#sk-container-id-7 label.sk-toggleable__label {cursor: pointer;display: block;width: 100%;margin-bottom: 0;padding: 0.3em;box-sizing: border-box;text-align: center;}#sk-container-id-7 label.sk-toggleable__label-arrow:before {content: \"▸\";float: left;margin-right: 0.25em;color: #696969;}#sk-container-id-7 label.sk-toggleable__label-arrow:hover:before {color: black;}#sk-container-id-7 div.sk-estimator:hover label.sk-toggleable__label-arrow:before {color: black;}#sk-container-id-7 div.sk-toggleable__content {max-height: 0;max-width: 0;overflow: hidden;text-align: left;background-color: #f0f8ff;}#sk-container-id-7 div.sk-toggleable__content pre {margin: 0.2em;color: black;border-radius: 0.25em;background-color: #f0f8ff;}#sk-container-id-7 input.sk-toggleable__control:checked~div.sk-toggleable__content {max-height: 200px;max-width: 100%;overflow: auto;}#sk-container-id-7 input.sk-toggleable__control:checked~label.sk-toggleable__label-arrow:before {content: \"▾\";}#sk-container-id-7 div.sk-estimator input.sk-toggleable__control:checked~label.sk-toggleable__label {background-color: #d4ebff;}#sk-container-id-7 div.sk-label input.sk-toggleable__control:checked~label.sk-toggleable__label {background-color: #d4ebff;}#sk-container-id-7 input.sk-hidden--visually {border: 0;clip: rect(1px 1px 1px 1px);clip: rect(1px, 1px, 1px, 1px);height: 1px;margin: -1px;overflow: hidden;padding: 0;position: absolute;width: 1px;}#sk-container-id-7 div.sk-estimator {font-family: monospace;background-color: #f0f8ff;border: 1px dotted black;border-radius: 0.25em;box-sizing: border-box;margin-bottom: 0.5em;}#sk-container-id-7 div.sk-estimator:hover {background-color: #d4ebff;}#sk-container-id-7 div.sk-parallel-item::after {content: \"\";width: 100%;border-bottom: 1px solid gray;flex-grow: 1;}#sk-container-id-7 div.sk-label:hover label.sk-toggleable__label {background-color: #d4ebff;}#sk-container-id-7 div.sk-serial::before {content: \"\";position: absolute;border-left: 1px solid gray;box-sizing: border-box;top: 0;bottom: 0;left: 50%;z-index: 0;}#sk-container-id-7 div.sk-serial {display: flex;flex-direction: column;align-items: center;background-color: white;padding-right: 0.2em;padding-left: 0.2em;position: relative;}#sk-container-id-7 div.sk-item {position: relative;z-index: 1;}#sk-container-id-7 div.sk-parallel {display: flex;align-items: stretch;justify-content: center;background-color: white;position: relative;}#sk-container-id-7 div.sk-item::before, #sk-container-id-7 div.sk-parallel-item::before {content: \"\";position: absolute;border-left: 1px solid gray;box-sizing: border-box;top: 0;bottom: 0;left: 50%;z-index: -1;}#sk-container-id-7 div.sk-parallel-item {display: flex;flex-direction: column;z-index: 1;position: relative;background-color: white;}#sk-container-id-7 div.sk-parallel-item:first-child::after {align-self: flex-end;width: 50%;}#sk-container-id-7 div.sk-parallel-item:last-child::after {align-self: flex-start;width: 50%;}#sk-container-id-7 div.sk-parallel-item:only-child::after {width: 0;}#sk-container-id-7 div.sk-dashed-wrapped {border: 1px dashed gray;margin: 0 0.4em 0.5em 0.4em;box-sizing: border-box;padding-bottom: 0.4em;background-color: white;}#sk-container-id-7 div.sk-label label {font-family: monospace;font-weight: bold;display: inline-block;line-height: 1.2em;}#sk-container-id-7 div.sk-label-container {text-align: center;}#sk-container-id-7 div.sk-container {/* jupyter's `normalize.less` sets `[hidden] { display: none; }` but bootstrap.min.css set `[hidden] { display: none !important; }` so we also need the `!important` here to be able to override the default hidden behavior on the sphinx rendered scikit-learn.org. See: https://github.com/scikit-learn/scikit-learn/issues/21755 */display: inline-block !important;position: relative;}#sk-container-id-7 div.sk-text-repr-fallback {display: none;}</style><div id=\"sk-container-id-7\" class=\"sk-top-container\"><div class=\"sk-text-repr-fallback\"><pre>LogisticRegression(random_state=0, solver=&#x27;liblinear&#x27;)</pre><b>In a Jupyter environment, please rerun this cell to show the HTML representation or trust the notebook. <br />On GitHub, the HTML representation is unable to render, please try loading this page with nbviewer.org.</b></div><div class=\"sk-container\" hidden><div class=\"sk-item\"><div class=\"sk-estimator sk-toggleable\"><input class=\"sk-toggleable__control sk-hidden--visually\" id=\"sk-estimator-id-7\" type=\"checkbox\" checked><label for=\"sk-estimator-id-7\" class=\"sk-toggleable__label sk-toggleable__label-arrow\">LogisticRegression</label><div class=\"sk-toggleable__content\"><pre>LogisticRegression(random_state=0, solver=&#x27;liblinear&#x27;)</pre></div></div></div></div></div>"
          },
          "metadata": {}
        }
      ]
    },
    {
      "cell_type": "code",
      "source": "# on ajoute une colonne pour la constante\nx_stat = sm.add_constant(X)\nmodel = sm.Logit(Y, x_stat)\nresult= model.fit()",
      "metadata": {
        "trusted": true
      },
      "execution_count": 115,
      "outputs": [
        {
          "name": "stdout",
          "text": "Optimization terminated successfully.\n         Current function value: 0.256278\n         Iterations 8\n",
          "output_type": "stream"
        }
      ]
    },
    {
      "cell_type": "code",
      "source": "result.summary()",
      "metadata": {
        "trusted": true
      },
      "execution_count": 116,
      "outputs": [
        {
          "execution_count": 116,
          "output_type": "execute_result",
          "data": {
            "text/plain": "<class 'statsmodels.iolib.summary.Summary'>\n\"\"\"\n                           Logit Regression Results                           \n==============================================================================\nDep. Variable:                      y   No. Observations:                   60\nModel:                          Logit   Df Residuals:                       56\nMethod:                           MLE   Df Model:                            3\nDate:                Sun, 23 Oct 2022   Pseudo R-squ.:                  0.6300\nTime:                        19:11:58   Log-Likelihood:                -15.377\nconverged:                       True   LL-Null:                       -41.555\nCovariance Type:            nonrobust   LLR p-value:                 2.513e-11\n==============================================================================\n                 coef    std err          z      P>|z|      [0.025      0.975]\n------------------------------------------------------------------------------\nconst         -2.8593      1.910     -1.497      0.134      -6.604       0.885\nx1            -3.6346      1.411     -2.576      0.010      -6.400      -0.869\nx2             0.6959      0.232      3.002      0.003       0.242       1.150\nx3            -0.7467      0.379     -1.971      0.049      -1.489      -0.004\n==============================================================================\n\"\"\"",
            "text/html": "<table class=\"simpletable\">\n<caption>Logit Regression Results</caption>\n<tr>\n  <th>Dep. Variable:</th>           <td>y</td>        <th>  No. Observations:  </th>  <td>    60</td>  \n</tr>\n<tr>\n  <th>Model:</th>                 <td>Logit</td>      <th>  Df Residuals:      </th>  <td>    56</td>  \n</tr>\n<tr>\n  <th>Method:</th>                 <td>MLE</td>       <th>  Df Model:          </th>  <td>     3</td>  \n</tr>\n<tr>\n  <th>Date:</th>            <td>Sun, 23 Oct 2022</td> <th>  Pseudo R-squ.:     </th>  <td>0.6300</td>  \n</tr>\n<tr>\n  <th>Time:</th>                <td>19:11:58</td>     <th>  Log-Likelihood:    </th> <td> -15.377</td> \n</tr>\n<tr>\n  <th>converged:</th>             <td>True</td>       <th>  LL-Null:           </th> <td> -41.555</td> \n</tr>\n<tr>\n  <th>Covariance Type:</th>     <td>nonrobust</td>    <th>  LLR p-value:       </th> <td>2.513e-11</td>\n</tr>\n</table>\n<table class=\"simpletable\">\n<tr>\n    <td></td>       <th>coef</th>     <th>std err</th>      <th>z</th>      <th>P>|z|</th>  <th>[0.025</th>    <th>0.975]</th>  \n</tr>\n<tr>\n  <th>const</th> <td>   -2.8593</td> <td>    1.910</td> <td>   -1.497</td> <td> 0.134</td> <td>   -6.604</td> <td>    0.885</td>\n</tr>\n<tr>\n  <th>x1</th>    <td>   -3.6346</td> <td>    1.411</td> <td>   -2.576</td> <td> 0.010</td> <td>   -6.400</td> <td>   -0.869</td>\n</tr>\n<tr>\n  <th>x2</th>    <td>    0.6959</td> <td>    0.232</td> <td>    3.002</td> <td> 0.003</td> <td>    0.242</td> <td>    1.150</td>\n</tr>\n<tr>\n  <th>x3</th>    <td>   -0.7467</td> <td>    0.379</td> <td>   -1.971</td> <td> 0.049</td> <td>   -1.489</td> <td>   -0.004</td>\n</tr>\n</table>"
          },
          "metadata": {}
        }
      ]
    },
    {
      "cell_type": "markdown",
      "source": "L'analyse des resultats montrent que le model est globalement significatif car p-value est inferieur au seuil de 5%. Il possede egalement un pouvoir explicatif R2 de 63%. Nous notons egalement que toutes nos variables explicatives sont significatives car elles possedent toutes des probabilites inferieures au seuil de 5%.",
      "metadata": {}
    },
    {
      "cell_type": "code",
      "source": "#verifier la qualité de notre model\nY_pred = classifier.predict(x_test)\nclassifier.score(x_test,y_test)",
      "metadata": {
        "trusted": true
      },
      "execution_count": 117,
      "outputs": [
        {
          "execution_count": 117,
          "output_type": "execute_result",
          "data": {
            "text/plain": "0.9166666666666666"
          },
          "metadata": {}
        }
      ]
    },
    {
      "cell_type": "markdown",
      "source": "Précision du classificateur de régression logistique sur l'ensemble de test : 0,91 apres suppression des variables nos significatives",
      "metadata": {}
    },
    {
      "cell_type": "markdown",
      "source": "Matrice de confusion",
      "metadata": {}
    },
    {
      "cell_type": "code",
      "source": "from sklearn.metrics import confusion_matrix  \nconfusion_matrix = confusion_matrix(y_test, Y_pred)  \nprint(confusion_matrix)  ",
      "metadata": {
        "trusted": true
      },
      "execution_count": 118,
      "outputs": [
        {
          "name": "stdout",
          "text": "[[4 0]\n [1 7]]\n",
          "output_type": "stream"
        }
      ]
    },
    {
      "cell_type": "markdown",
      "source": "La matrice de prediction nous dit que nous avons 4+7 de predictions correctes et 0+1 de predictions incorrectes",
      "metadata": {}
    },
    {
      "cell_type": "markdown",
      "source": "Précision de calcul, rappel, F-mesure et support",
      "metadata": {}
    },
    {
      "cell_type": "code",
      "source": "from sklearn.metrics import classification_report \nprint(classification_report(y_test, Y_pred))",
      "metadata": {
        "trusted": true
      },
      "execution_count": 119,
      "outputs": [
        {
          "name": "stdout",
          "text": "              precision    recall  f1-score   support\n\n           0       0.80      1.00      0.89         4\n           1       1.00      0.88      0.93         8\n\n    accuracy                           0.92        12\n   macro avg       0.90      0.94      0.91        12\nweighted avg       0.93      0.92      0.92        12\n\n",
          "output_type": "stream"
        }
      ]
    },
    {
      "cell_type": "markdown",
      "source": "la qualite de precision du model est de 0.92%. ",
      "metadata": {}
    },
    {
      "cell_type": "markdown",
      "source": "Courbe ROC",
      "metadata": {}
    },
    {
      "cell_type": "code",
      "source": "from sklearn.metrics import roc_auc_score \nfrom sklearn.metrics import roc_curve\n\n \nlogit_roc_auc = roc_auc_score(y_test, classifier.predict(x_test))\n\n \nfpr, tpr, thresholds = roc_curve(y_test, classifier.predict_proba(x_test)[:,1])\n\n \nplt.figure()\n\n \nplt.plot(fpr, tpr, label= 'Logistic Regression (area = %0.2f)' % logit_roc_auc)\n\n \nplt.plot([0, 1], [0, 1],'r')\n\n \nplt.xlim([0.0, 1.0])\n\n \nplt.ylim([0.0, 1.05])\n\n \nplt.xlabel('False Positive Rate')\n\n \nplt.ylabel('True Positive Rate')\n\n \nplt.title('Receiver operating characteristic')\n\n \nplt.legend(loc='lower right')\n\n \nplt.savefig('Log_ROC')\n\n \nplt.show()",
      "metadata": {
        "trusted": true
      },
      "execution_count": 120,
      "outputs": [
        {
          "output_type": "display_data",
          "data": {
            "text/plain": "<pyolite.display.Image at 0xbe452d0>",
            "image/png": "[encoded data removed]"
          },
          "metadata": {}
        }
      ]
    },
    {
      "cell_type": "markdown",
      "source": "Nous avons un ROC = 0.94, Alors notre model est tres bon",
      "metadata": {}
    },
    {
      "cell_type": "markdown",
      "source": "Apres verification de la qualite de notre model, nous pouvons faire des predictions oubien de calculer des probabilites",
      "metadata": {}
    },
    {
      "cell_type": "code",
      "source": "data.head()",
      "metadata": {
        "trusted": true
      },
      "execution_count": 121,
      "outputs": [
        {
          "execution_count": 121,
          "output_type": "execute_result",
          "data": {
            "text/plain": "   GENRE  SOLVABILITE  NCREDIT  DND\n0      1          3.6        2    0\n1      1          3.8        5    0\n2      0          4.0        3    0\n3      0          4.2        1    0\n4      1          4.2        4    0",
            "text/html": "<div>\n<style scoped>\n    .dataframe tbody tr th:only-of-type {\n        vertical-align: middle;\n    }\n\n    .dataframe tbody tr th {\n        vertical-align: top;\n    }\n\n    .dataframe thead th {\n        text-align: right;\n    }\n</style>\n<table border=\"1\" class=\"dataframe\">\n  <thead>\n    <tr style=\"text-align: right;\">\n      <th></th>\n      <th>GENRE</th>\n      <th>SOLVABILITE</th>\n      <th>NCREDIT</th>\n      <th>DND</th>\n    </tr>\n  </thead>\n  <tbody>\n    <tr>\n      <th>0</th>\n      <td>1</td>\n      <td>3.6</td>\n      <td>2</td>\n      <td>0</td>\n    </tr>\n    <tr>\n      <th>1</th>\n      <td>1</td>\n      <td>3.8</td>\n      <td>5</td>\n      <td>0</td>\n    </tr>\n    <tr>\n      <th>2</th>\n      <td>0</td>\n      <td>4.0</td>\n      <td>3</td>\n      <td>0</td>\n    </tr>\n    <tr>\n      <th>3</th>\n      <td>0</td>\n      <td>4.2</td>\n      <td>1</td>\n      <td>0</td>\n    </tr>\n    <tr>\n      <th>4</th>\n      <td>1</td>\n      <td>4.2</td>\n      <td>4</td>\n      <td>0</td>\n    </tr>\n  </tbody>\n</table>\n</div>"
          },
          "metadata": {}
        }
      ]
    },
    {
      "cell_type": "markdown",
      "source": "AUC",
      "metadata": {}
    },
    {
      "cell_type": "code",
      "source": "%%time\nlr = LogisticRegression(C = 0.0001, max_iter=100)\nlr.fit(x_train, y_train)\nroc_auc = roc_auc_score(y_test, lr.predict_proba(x_test)[:,1])\nprint('AUC : %0.4f' %roc_auc)\nprint(classification_report(y_test, lr.predict(x_test)))",
      "metadata": {
        "trusted": true
      },
      "execution_count": 124,
      "outputs": [
        {
          "name": "stdout",
          "text": "AUC : 0.9375\n",
          "output_type": "stream"
        },
        {
          "name": "stderr",
          "text": "/lib/python3.10/site-packages/sklearn/metrics/_classification.py:1327: UndefinedMetricWarning: Precision and F-score are ill-defined and being set to 0.0 in labels with no predicted samples. Use `zero_division` parameter to control this behavior.\n  _warn_prf(average, modifier, msg_start, len(result))\n/lib/python3.10/site-packages/sklearn/metrics/_classification.py:1327: UndefinedMetricWarning: Precision and F-score are ill-defined and being set to 0.0 in labels with no predicted samples. Use `zero_division` parameter to control this behavior.\n  _warn_prf(average, modifier, msg_start, len(result))\n/lib/python3.10/site-packages/sklearn/metrics/_classification.py:1327: UndefinedMetricWarning: Precision and F-score are ill-defined and being set to 0.0 in labels with no predicted samples. Use `zero_division` parameter to control this behavior.\n  _warn_prf(average, modifier, msg_start, len(result))\n",
          "output_type": "stream"
        },
        {
          "name": "stdout",
          "text": "              precision    recall  f1-score   support\n\n           0       0.33      1.00      0.50         4\n           1       0.00      0.00      0.00         8\n\n    accuracy                           0.33        12\n   macro avg       0.17      0.50      0.25        12\nweighted avg       0.11      0.33      0.17        12\n\nCPU times: user 0 ns, sys: 0 ns, total: 0 ns\nWall time: 4.55 s\n",
          "output_type": "stream"
        }
      ]
    },
    {
      "cell_type": "markdown",
      "source": "Nous avons un AUC = 0.94. Donc cela indique que le model est excellent",
      "metadata": {}
    },
    {
      "cell_type": "markdown",
      "source": "Nous concluons que nous avons un tres bon model de prediction meme si il n'est pas a 100% bon",
      "metadata": {}
    },
    {
      "cell_type": "markdown",
      "source": "Calcul de probabilite de l'entreprise donnee",
      "metadata": {}
    },
    {
      "cell_type": "code",
      "source": "La probabilite de defaillance",
      "metadata": {},
      "execution_count": null,
      "outputs": []
    },
    {
      "cell_type": "markdown",
      "source": "NB : J'ai effectue le calcul en main. J'ai pas pu trouver la fonction calcul.\nEtant donnee que je posssede les coefficients, le calcul devient facile. La constante etant egalement non significative, on ne la prend pas en compte lors du calcul\nLog[p(y=10)/1-p(y=1)] = -3.6346*GENRE + 0.5969*SOLVABILITE -0.7467*NCREDIT\nLog[p(y=10)/1-p(y=1)] = -3.6346*1 + 0.5969*8 -0.7467*1",
      "metadata": {}
    },
    {
      "cell_type": "markdown",
      "source": "P(y=1) = 0.76 --->\nLe risque pour cette entrprise a ne pas rembouser son creddit est de 0.24",
      "metadata": {}
    },
    {
      "cell_type": "markdown",
      "source": "HAROUNA BA ",
      "metadata": {}
    },
    {
      "cell_type": "code",
      "source": "",
      "metadata": {},
      "execution_count": null,
      "outputs": []
    }
  ]
}